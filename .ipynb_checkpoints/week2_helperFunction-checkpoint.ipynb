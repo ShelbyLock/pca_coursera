{
 "cells": [
  {
   "cell_type": "markdown",
   "metadata": {},
   "source": [
    "## Compute the angle between two vectors (in rad)"
   ]
  },
  {
   "cell_type": "code",
   "execution_count": 4,
   "metadata": {},
   "outputs": [],
   "source": [
    "import numpy as np"
   ]
  },
  {
   "cell_type": "code",
   "execution_count": 12,
   "metadata": {},
   "outputs": [],
   "source": [
    "vector_1 = np.array([1, 2, 3])\n",
    "vector_2 = np.array([2, 2 ,-5])"
   ]
  },
  {
   "cell_type": "code",
   "execution_count": 13,
   "metadata": {},
   "outputs": [
    {
     "name": "stdout",
     "output_type": "stream",
     "text": [
      "Cos   angle :  -0.4187178946793119\n",
      "    angle   : 2.002829357226812\n"
     ]
    }
   ],
   "source": [
    "unit_vector_1 = vector_1 / np.linalg.norm(vector_1)\n",
    "unit_vector_2 = vector_2 / np.linalg.norm(vector_2)\n",
    "dot_product = np.dot(unit_vector_1, unit_vector_2)\n",
    "angle = np.arccos(dot_product)\n",
    "print(\"Cos   angle : \",  dot_product)\n",
    "print(\"    angle   :\", angle)"
   ]
  },
  {
   "cell_type": "markdown",
   "metadata": {},
   "source": [
    "## Compute the  distance between two vectors"
   ]
  },
  {
   "cell_type": "code",
   "execution_count": 9,
   "metadata": {},
   "outputs": [],
   "source": [
    "vector_3 = np.array([3 , 4])\n",
    "vector_4 = np.array([1 , 1])"
   ]
  },
  {
   "cell_type": "code",
   "execution_count": 11,
   "metadata": {},
   "outputs": [
    {
     "name": "stdout",
     "output_type": "stream",
     "text": [
      "Distance is :  3.605551275463989\n"
     ]
    }
   ],
   "source": [
    "temp_vector = vector_3 - vector_4\n",
    "dis_vec  = np.sqrt(np.sum(temp_vector**2))\n",
    "print(\"Distance is : \",dis_vec)"
   ]
  },
  {
   "cell_type": "markdown",
   "metadata": {},
   "source": [
    "## Compute the distance using inner product"
   ]
  },
  {
   "cell_type": "code",
   "execution_count": 31,
   "metadata": {},
   "outputs": [],
   "source": []
  },
  {
   "cell_type": "code",
   "execution_count": 34,
   "metadata": {},
   "outputs": [],
   "source": [
    "def cal_inner(x,y,A):\n",
    "    inner = x.T @ A @ y\n",
    "    print(\"The inner product is :\", inner)"
   ]
  },
  {
   "cell_type": "code",
   "execution_count": 38,
   "metadata": {},
   "outputs": [
    {
     "name": "stdout",
     "output_type": "stream",
     "text": [
      "The inner product is : [[5.]]\n"
     ]
    }
   ],
   "source": [
    "x = np.array([0.5, -1, -0.5]).reshape(3,1)\n",
    "y = np.array([0, 1, 0]).reshape(3,1)\n",
    "A = np.array([[2, 1, 0],\n",
    "            [1, 2, -1],\n",
    "            [0,-1, 2]])\n",
    "cal_inner(x-y,x-y,A)"
   ]
  },
  {
   "cell_type": "code",
   "execution_count": 37,
   "metadata": {},
   "outputs": [
    {
     "name": "stdout",
     "output_type": "stream",
     "text": [
      "The inner product is : [[6.]]\n"
     ]
    }
   ],
   "source": [
    "x = np.array([-1,1]).reshape(2,1)\n",
    "A = 0.5 * np.array([[5, -1],\n",
    "            [-1, 5]])\n",
    "cal_inner(x,x,A)"
   ]
  },
  {
   "cell_type": "code",
   "execution_count": 39,
   "metadata": {},
   "outputs": [
    {
     "name": "stdout",
     "output_type": "stream",
     "text": [
      "The inner product is : [[42]]\n"
     ]
    }
   ],
   "source": [
    "x = np.array([4, 2, 1]).reshape(3,1)\n",
    "y = np.array([0, 1, 0]).reshape(3,1)\n",
    "A = np.array([[2, 1, 0],\n",
    "            [1, 2, -1],\n",
    "            [0,-1, 2]])\n",
    "cal_inner(x-y,x-y,A)"
   ]
  },
  {
   "cell_type": "code",
   "execution_count": 40,
   "metadata": {},
   "outputs": [
    {
     "data": {
      "text/plain": [
       "6.48074069840786"
      ]
     },
     "execution_count": 40,
     "metadata": {},
     "output_type": "execute_result"
    }
   ],
   "source": [
    "np.sqrt(42)"
   ]
  },
  {
   "cell_type": "code",
   "execution_count": 41,
   "metadata": {},
   "outputs": [
    {
     "name": "stdout",
     "output_type": "stream",
     "text": [
      "The inner product is : [[3]]\n"
     ]
    }
   ],
   "source": [
    "x = np.array([-1, -1, -1]).reshape(3,1)\n",
    "\n",
    "A = np.array([[1, 0, 0],\n",
    "            [0, 1, 0],\n",
    "            [0, 0, 1]])\n",
    "cal_inner(x,x,A)"
   ]
  },
  {
   "cell_type": "code",
   "execution_count": null,
   "metadata": {},
   "outputs": [],
   "source": []
  }
 ],
 "metadata": {
  "kernelspec": {
   "display_name": "Python 3",
   "language": "python",
   "name": "python3"
  },
  "language_info": {
   "codemirror_mode": {
    "name": "ipython",
    "version": 3
   },
   "file_extension": ".py",
   "mimetype": "text/x-python",
   "name": "python",
   "nbconvert_exporter": "python",
   "pygments_lexer": "ipython3",
   "version": "3.8.3"
  }
 },
 "nbformat": 4,
 "nbformat_minor": 4
}
