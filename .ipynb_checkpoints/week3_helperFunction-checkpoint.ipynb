{
 "cells": [
  {
   "cell_type": "markdown",
   "metadata": {},
   "source": [
    "## Calculate Projection into 1 dimention"
   ]
  },
  {
   "cell_type": "code",
   "execution_count": null,
   "metadata": {},
   "outputs": [],
   "source": [
    "def proj_matrix(b):\n",
    "    b_multiplier = np.matmul(b, b.T)\n",
    "    b_norm_square = np.linalg.norm(b)**2\n",
    "    b_matrix = b_multiplier/b_norm_square\n",
    "    return b_matrix"
   ]
  },
  {
   "cell_type": "code",
   "execution_count": null,
   "metadata": {},
   "outputs": [],
   "source": [
    "def proj(x, b):\n",
    "    b_multiplier = np.matmul(b, b.T)\n",
    "    b_norm_square = np.linalg.norm(b)**2\n",
    "    b_matrix = b_multiplier/b_norm_square\n",
    "    \n",
    "    proj = np.matmul(x.T, b_matrix)\n",
    "    print(proj)\n",
    "    return proj"
   ]
  },
  {
   "cell_type": "code",
   "execution_count": 18,
   "metadata": {},
   "outputs": [
    {
     "name": "stdout",
     "output_type": "stream",
     "text": [
      "[[0.84 0.   1.12]]\n"
     ]
    },
    {
     "data": {
      "text/plain": [
       "array([[0.84, 0.  , 1.12]])"
      ]
     },
     "execution_count": 18,
     "metadata": {},
     "output_type": "execute_result"
    }
   ],
   "source": [
    "x = np.array([1, 1, 1]).reshape(3,1)\n",
    "b = np.array([3, 0, 4]).reshape(3,1)\n",
    "proj(x, b)"
   ]
  },
  {
   "cell_type": "code",
   "execution_count": 19,
   "metadata": {},
   "outputs": [
    {
     "data": {
      "text/plain": [
       "0.84"
      ]
     },
     "execution_count": 19,
     "metadata": {},
     "output_type": "execute_result"
    }
   ],
   "source": []
  },
  {
   "cell_type": "markdown",
   "metadata": {},
   "source": [
    "## Calculate Reconstruction Error of 1 dimention\n",
    "i.e. It is the distance between the original data point and its projection onto a lower-dimensional subspace."
   ]
  },
  {
   "cell_type": "code",
   "execution_count": 23,
   "metadata": {},
   "outputs": [],
   "source": [
    "def dis(x,y):\n",
    "    temp = x-y\n",
    "    temp_norm = np.linalg.norm(temp)\n",
    "    print(temp_norm)\n",
    "    return temp_norm"
   ]
  },
  {
   "cell_type": "code",
   "execution_count": 24,
   "metadata": {},
   "outputs": [
    {
     "name": "stdout",
     "output_type": "stream",
     "text": [
      "0.4714045207910317\n"
     ]
    },
    {
     "data": {
      "text/plain": [
       "0.4714045207910317"
      ]
     },
     "execution_count": 24,
     "metadata": {},
     "output_type": "execute_result"
    }
   ],
   "source": [
    "x = np.array([1, 1, 1]).reshape(3,1)\n",
    "y = (1/9)*np.array([5, 10, 10]).reshape(3,1)\n",
    "dis(x,y)"
   ]
  },
  {
   "cell_type": "markdown",
   "metadata": {},
   "source": [
    "## Calculate Projection into m dimention"
   ]
  },
  {
   "cell_type": "code",
   "execution_count": 65,
   "metadata": {},
   "outputs": [],
   "source": [
    "def projm_matrix(B):\n",
    "    C1 = np.matmul(B.T, B)\n",
    "    C2 = np.linalg.inv(C1) \n",
    "    C3 = np.matmul(B, C2)\n",
    "    m = np.matmul(C3, B.T)\n",
    "    print(\"The projection matrix is:\\n\",m)\n",
    "    return m"
   ]
  },
  {
   "cell_type": "code",
   "execution_count": 66,
   "metadata": {},
   "outputs": [],
   "source": [
    "def projm(x, B):\n",
    "    m = projm_matrix(B)\n",
    "    p = np.matmul(m, x)\n",
    "    print(\"The projected coordinate is:\\n\",p)\n",
    "    return p"
   ]
  },
  {
   "cell_type": "code",
   "execution_count": 67,
   "metadata": {},
   "outputs": [],
   "source": [
    "def coordinate(x, B):\n",
    "    C1 = np.matmul(B.T, B)\n",
    "    C2 = np.linalg.inv(C1) \n",
    "    C3 = np.matmul(C2, B.T)\n",
    "    lamda = np.matmul(C3, x)\n",
    "    print(\"The coordinates of the projected point with respect to B are:\\n\",lamda)\n",
    "    return lamda"
   ]
  },
  {
   "cell_type": "code",
   "execution_count": 68,
   "metadata": {},
   "outputs": [],
   "source": [
    "# Check if the matrix is symmetric\n",
    "def check_symmetric(a, rtol=1e-05, atol=1e-08):\n",
    "    return np.allclose(a, a.T, rtol=rtol, atol=atol)"
   ]
  },
  {
   "cell_type": "code",
   "execution_count": 70,
   "metadata": {},
   "outputs": [],
   "source": [
    "# Calculate the rank of the matrix\n",
    "def cal_rank(m):\n",
    "    return np.linalg.matrix_rank(m)"
   ]
  },
  {
   "cell_type": "code",
   "execution_count": 71,
   "metadata": {},
   "outputs": [
    {
     "name": "stdout",
     "output_type": "stream",
     "text": [
      "The basis matrix is:\n",
      " [[1 0]\n",
      " [1 1]\n",
      " [1 2]]\n",
      "The projection matrix is:\n",
      " [[ 0.83333333  0.33333333 -0.16666667]\n",
      " [ 0.33333333  0.33333333  0.33333333]\n",
      " [-0.16666667  0.33333333  0.83333333]]\n",
      "The projection matrix is:\n",
      " [[ 0.83333333  0.33333333 -0.16666667]\n",
      " [ 0.33333333  0.33333333  0.33333333]\n",
      " [-0.16666667  0.33333333  0.83333333]]\n",
      "The projected coordinate is:\n",
      " [[ 5.]\n",
      " [ 2.]\n",
      " [-1.]]\n",
      "The coordinates of the projected point with respect to B are:\n",
      " [[ 5.]\n",
      " [-3.]]\n"
     ]
    }
   ],
   "source": [
    "B = np.array([[1, 0], [1, 1], [1, 2]]).reshape(3,2)\n",
    "print(\"The basis matrix is:\\n\",B)\n",
    "x = np.array([6, 0, 0]).reshape(3,1)\n",
    "m = projm_matrix(B)\n",
    "p = projm(x, B)\n",
    "lam = coordinate(x, B)"
   ]
  },
  {
   "cell_type": "code",
   "execution_count": 72,
   "metadata": {},
   "outputs": [
    {
     "data": {
      "text/plain": [
       "True"
      ]
     },
     "execution_count": 72,
     "metadata": {},
     "output_type": "execute_result"
    }
   ],
   "source": [
    "check_symmetric(m)"
   ]
  },
  {
   "cell_type": "code",
   "execution_count": 76,
   "metadata": {},
   "outputs": [
    {
     "data": {
      "text/plain": [
       "2"
      ]
     },
     "execution_count": 76,
     "metadata": {},
     "output_type": "execute_result"
    }
   ],
   "source": [
    "cal_rank(m)"
   ]
  },
  {
   "cell_type": "code",
   "execution_count": 74,
   "metadata": {},
   "outputs": [
    {
     "name": "stdout",
     "output_type": "stream",
     "text": [
      "The basis matrix is:\n",
      " [[1 0]\n",
      " [0 1]\n",
      " [0 1]]\n",
      "The projection matrix is:\n",
      " [[1.  0.  0. ]\n",
      " [0.  0.5 0.5]\n",
      " [0.  0.5 0.5]]\n",
      "The projected coordinate is:\n",
      " [[3.]\n",
      " [2.]\n",
      " [2.]]\n"
     ]
    }
   ],
   "source": [
    "B = np.array([[1, 0], [0, 1], [0, 1]]).reshape(3,2)\n",
    "print(\"The basis matrix is:\\n\",B)\n",
    "x = np.array([3, 2, 2]).reshape(3,1)\n",
    "p = projm(x, B)"
   ]
  },
  {
   "cell_type": "code",
   "execution_count": 75,
   "metadata": {},
   "outputs": [
    {
     "name": "stdout",
     "output_type": "stream",
     "text": [
      "The basis matrix is:\n",
      " [[1 0]\n",
      " [1 1]\n",
      " [1 2]]\n",
      "The projection matrix is:\n",
      " [[ 0.83333333  0.33333333 -0.16666667]\n",
      " [ 0.33333333  0.33333333  0.33333333]\n",
      " [-0.16666667  0.33333333  0.83333333]]\n",
      "The projected coordinate is:\n",
      " [[10.]\n",
      " [ 4.]\n",
      " [-2.]]\n"
     ]
    }
   ],
   "source": [
    "B = np.array([[1, 0], [1, 1], [1, 2]]).reshape(3,2)\n",
    "print(\"The basis matrix is:\\n\",B)\n",
    "x = np.array([12, 0, 0]).reshape(3,1)\n",
    "p = projm(x, B)"
   ]
  },
  {
   "cell_type": "code",
   "execution_count": null,
   "metadata": {},
   "outputs": [],
   "source": []
  }
 ],
 "metadata": {
  "kernelspec": {
   "display_name": "Python 3",
   "language": "python",
   "name": "python3"
  },
  "language_info": {
   "codemirror_mode": {
    "name": "ipython",
    "version": 3
   },
   "file_extension": ".py",
   "mimetype": "text/x-python",
   "name": "python",
   "nbconvert_exporter": "python",
   "pygments_lexer": "ipython3",
   "version": "3.8.3"
  }
 },
 "nbformat": 4,
 "nbformat_minor": 4
}
